{
 "cells": [
  {
   "cell_type": "markdown",
   "id": "65a13a15",
   "metadata": {},
   "source": [
    "# SUMMARY"
   ]
  },
  {
   "cell_type": "markdown",
   "id": "69e5024b",
   "metadata": {},
   "source": [
    "### PROJECT SUMMARY"
   ]
  },
  {
   "cell_type": "markdown",
   "id": "646c3314",
   "metadata": {},
   "source": [
    "1. *The algorithm and training method(s) you used (Such as SVM, Neural Network, etc.)*\n",
    "\n",
    "   The different algorithms I used in the project are:\n",
    "   \n",
    "   - **Random Forest Classifier**\n",
    "   - **Decision Tree Classifier**\n",
    "   - **SVM**\n",
    "   - **Logistic Regression**\n",
    "   - **GradientBoosting Classifier**\n",
    "   - **KNN**\n",
    "   - **LSTM neural network model**\n"
   ]
  },
  {
   "cell_type": "markdown",
   "id": "ef9fc50f",
   "metadata": {},
   "source": [
    "2. *The most important features selected for analysis and why? (Whether techniques such as PCA Factorization used)*\n",
    "\n",
    "   The shape of the Data Set loaded: **(1200, 28)**\n",
    "\n",
    "    - As there were only 28 features, I didn't try PCA. Instead I used feature selection method using Random Forest model, and got feature importance scores. Based on that removed 3 irrevalant features.\n",
    "    - I also removed constant feature such as EmpNumber. I came to that conclusion with domain knowledge. \n",
    "    - The target feature was performanceRating, and the 3 features that affected the target were `EmpLastSalaryHikePercent`, `EmpEnvironmentSatisfaction`, and `YearsSinceLastPromotion`\n",
    "    - The heatmap of the dataset was also plotted to see the correlation between each features."
   ]
  },
  {
   "cell_type": "markdown",
   "id": "b9e93b4b",
   "metadata": {},
   "source": [
    "3. *Other techniques and tools used in the project.*\n",
    "\n",
    "    - The basic checks have been done. \n",
    "    - Conducted Expolratory Data Analysis using histplot and countplot. \n",
    "    - Used Tableau also for the same. \n",
    "    - Data preprocessing steps:\n",
    "        - Handled missing values adn outliers\n",
    "        - Categorical features where encoded using Manual encoding technique as they are nominal values.\n",
    "        - Scaling is done for logistic regression only, for other models we used non scaled datas.\n"
   ]
  },
  {
   "cell_type": "markdown",
   "id": "1986120a",
   "metadata": {},
   "source": [
    "### FEATURES SELECTION / ENGINEERING"
   ]
  },
  {
   "cell_type": "markdown",
   "id": "6c1d3ea9",
   "metadata": {},
   "source": [
    "1. *Did you make any important feature transformations?*\n",
    "\n",
    "    I didn't had to use feature transformation such as log, square, square root, reciprocal,etc. as it was yeild less model score. I tried to use Standard scaling, but the effect was same."
   ]
  },
  {
   "cell_type": "markdown",
   "id": "47068d40",
   "metadata": {},
   "source": [
    "2. *Correlation or interactions among the features selected and how it is considered?*\n",
    "\n",
    "    Correlation between the features were checked using heatmap and feature selection was done using Random Forest model."
   ]
  },
  {
   "cell_type": "markdown",
   "id": "f61c7d78",
   "metadata": {},
   "source": [
    "### RESULTS, ANALYSIS AND INSIGHTS"
   ]
  },
  {
   "cell_type": "markdown",
   "id": "d55a4cbc",
   "metadata": {},
   "source": [
    "1. *Did you find any interesting relationships in the data that don't fit in the sections above?*\n",
    "\n",
    "    - Highly experienced females employees have high performance rating with `greater than 20% salary hike` whereas experienced male employees are able to have great performance rating even with `10% salary hike`. \n",
    "    - For the roles `Finance manager, Laboratory Technician, Human resources, Manufacturing Director and Seniour Manaer R&D`, the performance rating is low. As the experience increases the performances is reducing in the Finance, Human Resources and Research and Development departments. Reason could be not receiving recognition for their work."
   ]
  },
  {
   "cell_type": "markdown",
   "id": "86f0e0c8",
   "metadata": {},
   "source": [
    "2. *What is most important technique you used in this project?*\n",
    "\n",
    "    For me it would be Data preprocessing. I tried creating a pipeline for numerical and categorical data separately which would do the preprocessing steps, but the encoding was a bit challeging for me there. "
   ]
  },
  {
   "cell_type": "markdown",
   "id": "04fa7468",
   "metadata": {},
   "source": [
    "3. *Provide clear answers to the business problems mentioned in the project on basis of analysis.*\n",
    "\n",
    "    1. **Department wise performances** :\n",
    "        From the graph we can understand that employees from `Development` department has the highest performance rating, and the `Finance` department has got the lowest performance rating.\n",
    "    2. **Top 3 Important Factors effecting employee performance** :\n",
    "        EmpLastSalaryHikePercent, EmpEnvironmentSatisfaction and YearsSinceLastPromotion\n",
    "    3. **A trained model which can predict the employee performance based on factors as inputs. This will be used to hire employees** :\n",
    "        Trained the dataset on multiple models and found that `Random Forest` and `XGBoost` are best performing generalized model\n",
    "    4. **Recommendations to improve the employee performance based on insights from analysis** :\n",
    "        - Salary hike percentage is creating a significant impact on divorced and single employees. Concentrating economic well-being is important for these groups.\n",
    "        - Attrition happening due to performance is mostly happening in the top hierarchical positions\n",
    "        - Attrition happens mostly in the Development department. If we consider the level 1 employees, even if they are getting good salary hike, attrition is still happening. There is a slight negative relation between hourly rate and performance rating. It would be good to consider that parameters. Also, consider the market demand for the developement department.\n",
    "        "
   ]
  },
  {
   "cell_type": "markdown",
   "id": "6fb4b55d",
   "metadata": {},
   "source": [
    "4. *More business insights you gain from the analysis.*\n",
    "\n",
    "    - Male employees are more satisfied in the job than female employees\n",
    "    - For female employees, as their experience increases, their average performance decreases whereas for male employees, their average performance increases with experience.\n",
    "    - Highly experienced females employees have high performance rating with `greater than 20% salary hike` whereas experienced male employees are able to have great performance rating even with `10% salary hike`. \n",
    "    - For highly experienced employees, hourly rate is not significantly affecting the performance rating.\n"
   ]
  }
 ],
 "metadata": {
  "kernelspec": {
   "display_name": "Python 3 (ipykernel)",
   "language": "python",
   "name": "python3"
  },
  "language_info": {
   "codemirror_mode": {
    "name": "ipython",
    "version": 3
   },
   "file_extension": ".py",
   "mimetype": "text/x-python",
   "name": "python",
   "nbconvert_exporter": "python",
   "pygments_lexer": "ipython3",
   "version": "3.11.5"
  }
 },
 "nbformat": 4,
 "nbformat_minor": 5
}
