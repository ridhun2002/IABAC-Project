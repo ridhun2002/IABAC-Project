{
 "cells": [
  {
   "cell_type": "markdown",
   "metadata": {},
   "source": [
    "## Business Case:"
   ]
  },
  {
   "cell_type": "markdown",
   "metadata": {},
   "source": [
    "INX Future Inc Employee Performance - Project\n",
    "\n",
    "INX Future Inc , (referred as INX ) , is one of the leading data analytics and automation solutions provider with over 15 years of global business presence. INX is consistently rated as top 20 best employers past 5 years. INX human resource policies are considered as employee friendly and widely perceived as best practices in the industry.\n",
    "\n",
    "Recent years, the employee performance indexes are not healthy and this is becoming a growing concerns among the top management. There has been increased escalations on service delivery and client satisfaction levels came down by 8 percentage points.\n",
    "\n",
    "CEO, Mr. Brain, knows the issues but concerned to take any actions in penalizing non-performing employees as this would affect the employee morale of all the employees in general and may further reduce the performance. Also, the market perception best employer and thereby attracting best talents to join the company.\n",
    "\n",
    "Mr. Brain decided to initiate a data science project , which analyses the current employee data and find the core underlying causes of this performance issues. Mr. Brain, being a data scientist himself, expects the findings of this project will help him to take right course of actions. He also expects a clear indicators of non performing employees, so that any penalization of non-performing employee, if required, may not significantly affect other employee morals.\n",
    "\n"
   ]
  },
  {
   "cell_type": "markdown",
   "metadata": {},
   "source": [
    "### 1. Industry/Field:"
   ]
  },
  {
   "cell_type": "markdown",
   "metadata": {},
   "source": [
    "   - The dataset appears to be related to employee information in an organization, likely from the Human Resources domain.\n"
   ]
  },
  {
   "cell_type": "markdown",
   "metadata": {},
   "source": [
    "### 2. Columns and Features:\n",
    "\n",
    "#### Employee Information:\n",
    "   - **EmpNumber:** Employee identification number.\n",
    "   - **Age:** Age of the employee.\n",
    "   - **Gender:** Gender of the employee.\n",
    "   - **EducationBackground:** Employee's educational background.\n",
    "   - **MaritalStatus:** Marital status of the employee.\n",
    "\n",
    "#### Job and Department Information:\n",
    "   - **EmpDepartment:** Department in which the employee works.\n",
    "   - **EmpJobRole:** Job role or position of the employee.\n",
    "   - **BusinessTravelFrequency:** Frequency of business travel.\n",
    "\n",
    "#### Work Environment and Job Satisfaction:\n",
    "   - **EmpEnvironmentSatisfaction:** Satisfaction with the work environment.\n",
    "   - **EmpHourlyRate:** Hourly rate of the employee.\n",
    "   - **EmpJobInvolvement:** Level of job involvement.\n",
    "   - **EmpJobLevel:** Job level or position in the organization.\n",
    "   - **EmpJobSatisfaction:** Job satisfaction level.\n",
    "   - **NumCompaniesWorked:** Number of companies the employee has worked for.\n",
    "\n",
    "#### Career and Experience:\n",
    "   - **TotalWorkExperienceInYears:** Total work experience in years.\n",
    "   - **TrainingTimesLastYear:** Number of training sessions attended last year.\n",
    "   - **EmpWorkLifeBalance:** Work-life balance satisfaction.\n",
    "   - **ExperienceYearsAtThisCompany:** Years of experience at the current company.\n",
    "   - **ExperienceYearsInCurrentRole:** Years of experience in the current role.\n",
    "   - **YearsSinceLastPromotion:** Years since the last promotion.\n",
    "   - **YearsWithCurrManager:** Years with the current manager.\n",
    "\n",
    "#### Other Factors:\n",
    "   - **Attrition:** Indicates whether the employee has left the organization (Yes/No).\n",
    "   - **PerformanceRating:** Performance rating of the employee.\n",
    "\n",
    "This analysis provides a high-level overview."
   ]
  },
  {
   "cell_type": "markdown",
   "metadata": {},
   "source": [
    "### 3. Potential Insights or Questions:"
   ]
  },
  {
   "cell_type": "markdown",
   "metadata": {},
   "source": [
    "The following insights are expected from this project.\n",
    "1. Department wise performances\n",
    "2. Top 3 Important Factors effecting employee performance\n",
    "3. A trained model which can predict the employee performance based on factors as inputs. This will be used to hire employees\n",
    "4. Recommendations to improve the employee performance based on insights from analysis."
   ]
  }
 ],
 "metadata": {
  "language_info": {
   "name": "python"
  }
 },
 "nbformat": 4,
 "nbformat_minor": 2
}
